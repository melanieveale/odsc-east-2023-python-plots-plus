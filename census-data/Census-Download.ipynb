{
 "cells": [
  {
   "cell_type": "markdown",
   "id": "9109f2d6-ef96-48d0-b263-5ec9493a0016",
   "metadata": {},
   "source": [
    "# Census data download"
   ]
  },
  {
   "cell_type": "markdown",
   "id": "327d4e18-efa7-4458-9148-00f1ec49e7fc",
   "metadata": {},
   "source": [
    "Run this notebook to generate data files:\n",
    "* `census_geo.*`\n",
    "* `census_long.csv`"
   ]
  },
  {
   "cell_type": "markdown",
   "id": "bab4e8d2-9e80-4d08-b825-70b2b63a104a",
   "metadata": {},
   "source": [
    "## Imports and setup"
   ]
  },
  {
   "cell_type": "code",
   "execution_count": 1,
   "id": "995e9a5f-0309-469c-b200-dbed586ce877",
   "metadata": {
    "tags": []
   },
   "outputs": [],
   "source": [
    "import cenpy"
   ]
  },
  {
   "cell_type": "code",
   "execution_count": 2,
   "id": "2de30a98-d378-4bba-8a15-ba7f48e2a9e4",
   "metadata": {
    "tags": []
   },
   "outputs": [
    {
     "data": {
      "text/plain": [
       "Connection to American Community Survey: 5-Year Estimates: Detailed Tables 5-Year(ID: https://api.census.gov/data/id/ACSDT5Y2019)\n",
       "With MapServer: Census ACS 2019 WMS"
      ]
     },
     "execution_count": 2,
     "metadata": {},
     "output_type": "execute_result"
    }
   ],
   "source": [
    "# This is the main product we get the data from\n",
    "acs = cenpy.products.ACS()\n",
    "acs"
   ]
  },
  {
   "cell_type": "code",
   "execution_count": 3,
   "id": "7157246c-1eb9-4155-9650-e501f519c0e2",
   "metadata": {
    "tags": []
   },
   "outputs": [
    {
     "data": {
      "text/html": [
       "<div>\n",
       "<style scoped>\n",
       "    .dataframe tbody tr th:only-of-type {\n",
       "        vertical-align: middle;\n",
       "    }\n",
       "\n",
       "    .dataframe tbody tr th {\n",
       "        vertical-align: top;\n",
       "    }\n",
       "\n",
       "    .dataframe thead th {\n",
       "        text-align: right;\n",
       "    }\n",
       "</style>\n",
       "<table border=\"1\" class=\"dataframe\">\n",
       "  <thead>\n",
       "    <tr style=\"text-align: right;\">\n",
       "      <th></th>\n",
       "      <th>label</th>\n",
       "      <th>concept</th>\n",
       "      <th>predicateType</th>\n",
       "      <th>group</th>\n",
       "      <th>limit</th>\n",
       "      <th>predicateOnly</th>\n",
       "      <th>hasGeoCollectionSupport</th>\n",
       "      <th>attributes</th>\n",
       "      <th>required</th>\n",
       "    </tr>\n",
       "  </thead>\n",
       "  <tbody>\n",
       "    <tr>\n",
       "      <th>B15001_001E</th>\n",
       "      <td>Estimate!!Total:</td>\n",
       "      <td>SEX BY AGE BY EDUCATIONAL ATTAINMENT FOR THE P...</td>\n",
       "      <td>int</td>\n",
       "      <td>B15001</td>\n",
       "      <td>0</td>\n",
       "      <td>NaN</td>\n",
       "      <td>NaN</td>\n",
       "      <td>B15001_001EA,B15001_001M,B15001_001MA</td>\n",
       "      <td>NaN</td>\n",
       "    </tr>\n",
       "    <tr>\n",
       "      <th>B15001_002E</th>\n",
       "      <td>Estimate!!Total:!!Male:</td>\n",
       "      <td>SEX BY AGE BY EDUCATIONAL ATTAINMENT FOR THE P...</td>\n",
       "      <td>int</td>\n",
       "      <td>B15001</td>\n",
       "      <td>0</td>\n",
       "      <td>NaN</td>\n",
       "      <td>NaN</td>\n",
       "      <td>B15001_002EA,B15001_002M,B15001_002MA</td>\n",
       "      <td>NaN</td>\n",
       "    </tr>\n",
       "    <tr>\n",
       "      <th>B15001_003E</th>\n",
       "      <td>Estimate!!Total:!!Male:!!18 to 24 years:</td>\n",
       "      <td>SEX BY AGE BY EDUCATIONAL ATTAINMENT FOR THE P...</td>\n",
       "      <td>int</td>\n",
       "      <td>B15001</td>\n",
       "      <td>0</td>\n",
       "      <td>NaN</td>\n",
       "      <td>NaN</td>\n",
       "      <td>B15001_003EA,B15001_003M,B15001_003MA</td>\n",
       "      <td>NaN</td>\n",
       "    </tr>\n",
       "    <tr>\n",
       "      <th>B15001_004E</th>\n",
       "      <td>Estimate!!Total:!!Male:!!18 to 24 years:!!Less...</td>\n",
       "      <td>SEX BY AGE BY EDUCATIONAL ATTAINMENT FOR THE P...</td>\n",
       "      <td>int</td>\n",
       "      <td>B15001</td>\n",
       "      <td>0</td>\n",
       "      <td>NaN</td>\n",
       "      <td>NaN</td>\n",
       "      <td>B15001_004EA,B15001_004M,B15001_004MA</td>\n",
       "      <td>NaN</td>\n",
       "    </tr>\n",
       "    <tr>\n",
       "      <th>B15001_005E</th>\n",
       "      <td>Estimate!!Total:!!Male:!!18 to 24 years:!!9th ...</td>\n",
       "      <td>SEX BY AGE BY EDUCATIONAL ATTAINMENT FOR THE P...</td>\n",
       "      <td>int</td>\n",
       "      <td>B15001</td>\n",
       "      <td>0</td>\n",
       "      <td>NaN</td>\n",
       "      <td>NaN</td>\n",
       "      <td>B15001_005EA,B15001_005M,B15001_005MA</td>\n",
       "      <td>NaN</td>\n",
       "    </tr>\n",
       "  </tbody>\n",
       "</table>\n",
       "</div>"
      ],
      "text/plain": [
       "                                                         label  \\\n",
       "B15001_001E                                   Estimate!!Total:   \n",
       "B15001_002E                            Estimate!!Total:!!Male:   \n",
       "B15001_003E           Estimate!!Total:!!Male:!!18 to 24 years:   \n",
       "B15001_004E  Estimate!!Total:!!Male:!!18 to 24 years:!!Less...   \n",
       "B15001_005E  Estimate!!Total:!!Male:!!18 to 24 years:!!9th ...   \n",
       "\n",
       "                                                       concept predicateType  \\\n",
       "B15001_001E  SEX BY AGE BY EDUCATIONAL ATTAINMENT FOR THE P...           int   \n",
       "B15001_002E  SEX BY AGE BY EDUCATIONAL ATTAINMENT FOR THE P...           int   \n",
       "B15001_003E  SEX BY AGE BY EDUCATIONAL ATTAINMENT FOR THE P...           int   \n",
       "B15001_004E  SEX BY AGE BY EDUCATIONAL ATTAINMENT FOR THE P...           int   \n",
       "B15001_005E  SEX BY AGE BY EDUCATIONAL ATTAINMENT FOR THE P...           int   \n",
       "\n",
       "              group limit predicateOnly hasGeoCollectionSupport  \\\n",
       "B15001_001E  B15001     0           NaN                     NaN   \n",
       "B15001_002E  B15001     0           NaN                     NaN   \n",
       "B15001_003E  B15001     0           NaN                     NaN   \n",
       "B15001_004E  B15001     0           NaN                     NaN   \n",
       "B15001_005E  B15001     0           NaN                     NaN   \n",
       "\n",
       "                                        attributes required  \n",
       "B15001_001E  B15001_001EA,B15001_001M,B15001_001MA      NaN  \n",
       "B15001_002E  B15001_002EA,B15001_002M,B15001_002MA      NaN  \n",
       "B15001_003E  B15001_003EA,B15001_003M,B15001_003MA      NaN  \n",
       "B15001_004E  B15001_004EA,B15001_004M,B15001_004MA      NaN  \n",
       "B15001_005E  B15001_005EA,B15001_005M,B15001_005MA      NaN  "
      ]
     },
     "execution_count": 3,
     "metadata": {},
     "output_type": "execute_result"
    }
   ],
   "source": [
    "# Experiment with the variables if you like - here's the ones I will use\n",
    "census_vars = acs.variables[acs.variables['group'] == 'B15001']\n",
    "census_vars.head()"
   ]
  },
  {
   "cell_type": "markdown",
   "id": "ef3a4461-e171-40b7-8c18-ed8762c603bb",
   "metadata": {},
   "source": [
    "## Download California data"
   ]
  },
  {
   "cell_type": "code",
   "execution_count": 4,
   "id": "5ee8313c-1fd5-4221-86b7-899422ba73c6",
   "metadata": {
    "tags": []
   },
   "outputs": [
    {
     "name": "stderr",
     "output_type": "stream",
     "text": [
      "/Library/Frameworks/Python.framework/Versions/3.10/lib/python3.10/site-packages/cenpy/products.py:767: FutureWarning: The `op` parameter is deprecated and will be removed in a future release. Please use the `predicate` parameter instead.\n",
      "  return self._from_name(state, variables, level, \"States\", **kwargs)\n"
     ]
    },
    {
     "data": {
      "text/html": [
       "<div>\n",
       "<style scoped>\n",
       "    .dataframe tbody tr th:only-of-type {\n",
       "        vertical-align: middle;\n",
       "    }\n",
       "\n",
       "    .dataframe tbody tr th {\n",
       "        vertical-align: top;\n",
       "    }\n",
       "\n",
       "    .dataframe thead th {\n",
       "        text-align: right;\n",
       "    }\n",
       "</style>\n",
       "<table border=\"1\" class=\"dataframe\">\n",
       "  <thead>\n",
       "    <tr style=\"text-align: right;\">\n",
       "      <th></th>\n",
       "      <th>GEOID</th>\n",
       "      <th>geometry</th>\n",
       "      <th>B15001_001E</th>\n",
       "      <th>B15001_002E</th>\n",
       "      <th>B15001_003E</th>\n",
       "      <th>B15001_004E</th>\n",
       "      <th>B15001_005E</th>\n",
       "      <th>B15001_006E</th>\n",
       "      <th>B15001_007E</th>\n",
       "      <th>B15001_008E</th>\n",
       "      <th>...</th>\n",
       "      <th>B15001_075E</th>\n",
       "      <th>B15001_076E</th>\n",
       "      <th>B15001_077E</th>\n",
       "      <th>B15001_078E</th>\n",
       "      <th>B15001_079E</th>\n",
       "      <th>B15001_080E</th>\n",
       "      <th>B15001_081E</th>\n",
       "      <th>B15001_082E</th>\n",
       "      <th>B15001_083E</th>\n",
       "      <th>NAME</th>\n",
       "    </tr>\n",
       "  </thead>\n",
       "  <tbody>\n",
       "    <tr>\n",
       "      <th>0</th>\n",
       "      <td>06075</td>\n",
       "      <td>MULTIPOLYGON (((-13649137.130 4553355.950, -13...</td>\n",
       "      <td>757415.0</td>\n",
       "      <td>386289.0</td>\n",
       "      <td>30164.0</td>\n",
       "      <td>203.0</td>\n",
       "      <td>1547.0</td>\n",
       "      <td>6170.0</td>\n",
       "      <td>11448.0</td>\n",
       "      <td>1157.0</td>\n",
       "      <td>...</td>\n",
       "      <td>20643.0</td>\n",
       "      <td>74161.0</td>\n",
       "      <td>15387.0</td>\n",
       "      <td>5708.0</td>\n",
       "      <td>13153.0</td>\n",
       "      <td>10295.0</td>\n",
       "      <td>3785.0</td>\n",
       "      <td>14763.0</td>\n",
       "      <td>11070.0</td>\n",
       "      <td>San Francisco County, California</td>\n",
       "    </tr>\n",
       "    <tr>\n",
       "      <th>1</th>\n",
       "      <td>06081</td>\n",
       "      <td>POLYGON ((-13646334.440 4521323.060, -13646298...</td>\n",
       "      <td>607919.0</td>\n",
       "      <td>297536.0</td>\n",
       "      <td>29151.0</td>\n",
       "      <td>766.0</td>\n",
       "      <td>2244.0</td>\n",
       "      <td>8948.0</td>\n",
       "      <td>10812.0</td>\n",
       "      <td>1360.0</td>\n",
       "      <td>...</td>\n",
       "      <td>20555.0</td>\n",
       "      <td>68128.0</td>\n",
       "      <td>7093.0</td>\n",
       "      <td>3622.0</td>\n",
       "      <td>13966.0</td>\n",
       "      <td>13126.0</td>\n",
       "      <td>5451.0</td>\n",
       "      <td>15381.0</td>\n",
       "      <td>9489.0</td>\n",
       "      <td>San Mateo County, California</td>\n",
       "    </tr>\n",
       "    <tr>\n",
       "      <th>2</th>\n",
       "      <td>06001</td>\n",
       "      <td>POLYGON ((-13612245.300 4538149.390, -13612345...</td>\n",
       "      <td>1312727.0</td>\n",
       "      <td>638603.0</td>\n",
       "      <td>69988.0</td>\n",
       "      <td>820.0</td>\n",
       "      <td>6170.0</td>\n",
       "      <td>20382.0</td>\n",
       "      <td>29477.0</td>\n",
       "      <td>2269.0</td>\n",
       "      <td>...</td>\n",
       "      <td>38154.0</td>\n",
       "      <td>125967.0</td>\n",
       "      <td>14577.0</td>\n",
       "      <td>9122.0</td>\n",
       "      <td>29319.0</td>\n",
       "      <td>22503.0</td>\n",
       "      <td>7612.0</td>\n",
       "      <td>24097.0</td>\n",
       "      <td>18737.0</td>\n",
       "      <td>Alameda County, California</td>\n",
       "    </tr>\n",
       "  </tbody>\n",
       "</table>\n",
       "<p>3 rows × 88 columns</p>\n",
       "</div>"
      ],
      "text/plain": [
       "   GEOID                                           geometry  B15001_001E  \\\n",
       "0  06075  MULTIPOLYGON (((-13649137.130 4553355.950, -13...     757415.0   \n",
       "1  06081  POLYGON ((-13646334.440 4521323.060, -13646298...     607919.0   \n",
       "2  06001  POLYGON ((-13612245.300 4538149.390, -13612345...    1312727.0   \n",
       "\n",
       "   B15001_002E  B15001_003E  B15001_004E  B15001_005E  B15001_006E  \\\n",
       "0     386289.0      30164.0        203.0       1547.0       6170.0   \n",
       "1     297536.0      29151.0        766.0       2244.0       8948.0   \n",
       "2     638603.0      69988.0        820.0       6170.0      20382.0   \n",
       "\n",
       "   B15001_007E  B15001_008E  ...  B15001_075E  B15001_076E  B15001_077E  \\\n",
       "0      11448.0       1157.0  ...      20643.0      74161.0      15387.0   \n",
       "1      10812.0       1360.0  ...      20555.0      68128.0       7093.0   \n",
       "2      29477.0       2269.0  ...      38154.0     125967.0      14577.0   \n",
       "\n",
       "   B15001_078E  B15001_079E  B15001_080E  B15001_081E  B15001_082E  \\\n",
       "0       5708.0      13153.0      10295.0       3785.0      14763.0   \n",
       "1       3622.0      13966.0      13126.0       5451.0      15381.0   \n",
       "2       9122.0      29319.0      22503.0       7612.0      24097.0   \n",
       "\n",
       "   B15001_083E                              NAME  \n",
       "0      11070.0  San Francisco County, California  \n",
       "1       9489.0      San Mateo County, California  \n",
       "2      18737.0        Alameda County, California  \n",
       "\n",
       "[3 rows x 88 columns]"
      ]
     },
     "execution_count": 4,
     "metadata": {},
     "output_type": "execute_result"
    }
   ],
   "source": [
    "# I'm picking out data from CA, at county level, with these variables I got thru experimenting\n",
    "census_df = acs.from_state(\n",
    "    'CA',\n",
    "    level = 'county',\n",
    "    variables = ['B15001_*']\n",
    ")\n",
    "census_df.head(3)"
   ]
  },
  {
   "cell_type": "markdown",
   "id": "128a0f89-2489-4cfb-97fc-01844df8b976",
   "metadata": {},
   "source": [
    "## Save geodata out separately to save space"
   ]
  },
  {
   "cell_type": "code",
   "execution_count": 5,
   "id": "63772f4e-222a-4d16-becf-766c93b107fb",
   "metadata": {
    "tags": []
   },
   "outputs": [
    {
     "data": {
      "text/html": [
       "<div>\n",
       "<style scoped>\n",
       "    .dataframe tbody tr th:only-of-type {\n",
       "        vertical-align: middle;\n",
       "    }\n",
       "\n",
       "    .dataframe tbody tr th {\n",
       "        vertical-align: top;\n",
       "    }\n",
       "\n",
       "    .dataframe thead th {\n",
       "        text-align: right;\n",
       "    }\n",
       "</style>\n",
       "<table border=\"1\" class=\"dataframe\">\n",
       "  <thead>\n",
       "    <tr style=\"text-align: right;\">\n",
       "      <th></th>\n",
       "      <th>GEOID</th>\n",
       "      <th>geometry</th>\n",
       "      <th>NAME</th>\n",
       "    </tr>\n",
       "  </thead>\n",
       "  <tbody>\n",
       "    <tr>\n",
       "      <th>0</th>\n",
       "      <td>6075</td>\n",
       "      <td>MULTIPOLYGON (((-13649137.130 4553355.950, -13...</td>\n",
       "      <td>San Francisco County, California</td>\n",
       "    </tr>\n",
       "    <tr>\n",
       "      <th>1</th>\n",
       "      <td>6081</td>\n",
       "      <td>POLYGON ((-13646334.440 4521323.060, -13646298...</td>\n",
       "      <td>San Mateo County, California</td>\n",
       "    </tr>\n",
       "    <tr>\n",
       "      <th>2</th>\n",
       "      <td>6001</td>\n",
       "      <td>POLYGON ((-13612245.300 4538149.390, -13612345...</td>\n",
       "      <td>Alameda County, California</td>\n",
       "    </tr>\n",
       "    <tr>\n",
       "      <th>3</th>\n",
       "      <td>6039</td>\n",
       "      <td>POLYGON ((-13370181.620 4462431.440, -13370113...</td>\n",
       "      <td>Madera County, California</td>\n",
       "    </tr>\n",
       "    <tr>\n",
       "      <th>4</th>\n",
       "      <td>6107</td>\n",
       "      <td>POLYGON ((-13225170.620 4271811.660, -13225307...</td>\n",
       "      <td>Tulare County, California</td>\n",
       "    </tr>\n",
       "  </tbody>\n",
       "</table>\n",
       "</div>"
      ],
      "text/plain": [
       "   GEOID                                           geometry  \\\n",
       "0   6075  MULTIPOLYGON (((-13649137.130 4553355.950, -13...   \n",
       "1   6081  POLYGON ((-13646334.440 4521323.060, -13646298...   \n",
       "2   6001  POLYGON ((-13612245.300 4538149.390, -13612345...   \n",
       "3   6039  POLYGON ((-13370181.620 4462431.440, -13370113...   \n",
       "4   6107  POLYGON ((-13225170.620 4271811.660, -13225307...   \n",
       "\n",
       "                               NAME  \n",
       "0  San Francisco County, California  \n",
       "1      San Mateo County, California  \n",
       "2        Alameda County, California  \n",
       "3         Madera County, California  \n",
       "4         Tulare County, California  "
      ]
     },
     "execution_count": 5,
     "metadata": {},
     "output_type": "execute_result"
    }
   ],
   "source": [
    "# Save the county geo info out separately as it is larger\n",
    "census_df_geo = census_df.drop_duplicates('GEOID')[['GEOID', 'geometry', 'NAME']]\n",
    "\n",
    "# Convert GEOID to int for smoother parsing later\n",
    "census_df_geo['GEOID'] = census_df_geo['GEOID'].astype(int)\n",
    "census_df_geo.head()"
   ]
  },
  {
   "cell_type": "code",
   "execution_count": 6,
   "id": "d316b90a-cc89-464c-9bde-6bd7ac6e3342",
   "metadata": {
    "tags": []
   },
   "outputs": [],
   "source": [
    "census_df_geo.to_file(\"census_geo.shp\", index=False)"
   ]
  },
  {
   "cell_type": "markdown",
   "id": "065f6d2c-18ae-42fa-b4b4-a045a85a88b7",
   "metadata": {},
   "source": [
    "### Check reading geodata back in"
   ]
  },
  {
   "cell_type": "code",
   "execution_count": 7,
   "id": "5b303eeb-b41a-49e6-a0ba-b735ce27ed17",
   "metadata": {
    "tags": []
   },
   "outputs": [
    {
     "data": {
      "text/html": [
       "<div>\n",
       "<style scoped>\n",
       "    .dataframe tbody tr th:only-of-type {\n",
       "        vertical-align: middle;\n",
       "    }\n",
       "\n",
       "    .dataframe tbody tr th {\n",
       "        vertical-align: top;\n",
       "    }\n",
       "\n",
       "    .dataframe thead th {\n",
       "        text-align: right;\n",
       "    }\n",
       "</style>\n",
       "<table border=\"1\" class=\"dataframe\">\n",
       "  <thead>\n",
       "    <tr style=\"text-align: right;\">\n",
       "      <th></th>\n",
       "      <th>GEOID</th>\n",
       "      <th>NAME</th>\n",
       "      <th>geometry</th>\n",
       "    </tr>\n",
       "  </thead>\n",
       "  <tbody>\n",
       "    <tr>\n",
       "      <th>0</th>\n",
       "      <td>6075</td>\n",
       "      <td>San Francisco County, California</td>\n",
       "      <td>MULTIPOLYGON (((-13649137.130 4553355.950, -13...</td>\n",
       "    </tr>\n",
       "    <tr>\n",
       "      <th>1</th>\n",
       "      <td>6081</td>\n",
       "      <td>San Mateo County, California</td>\n",
       "      <td>POLYGON ((-13646334.440 4521323.060, -13646298...</td>\n",
       "    </tr>\n",
       "    <tr>\n",
       "      <th>2</th>\n",
       "      <td>6001</td>\n",
       "      <td>Alameda County, California</td>\n",
       "      <td>POLYGON ((-13612245.300 4538149.390, -13612345...</td>\n",
       "    </tr>\n",
       "    <tr>\n",
       "      <th>3</th>\n",
       "      <td>6039</td>\n",
       "      <td>Madera County, California</td>\n",
       "      <td>POLYGON ((-13370181.620 4462431.440, -13370113...</td>\n",
       "    </tr>\n",
       "    <tr>\n",
       "      <th>4</th>\n",
       "      <td>6107</td>\n",
       "      <td>Tulare County, California</td>\n",
       "      <td>POLYGON ((-13225170.620 4271811.660, -13225307...</td>\n",
       "    </tr>\n",
       "  </tbody>\n",
       "</table>\n",
       "</div>"
      ],
      "text/plain": [
       "   GEOID                              NAME  \\\n",
       "0   6075  San Francisco County, California   \n",
       "1   6081      San Mateo County, California   \n",
       "2   6001        Alameda County, California   \n",
       "3   6039         Madera County, California   \n",
       "4   6107         Tulare County, California   \n",
       "\n",
       "                                            geometry  \n",
       "0  MULTIPOLYGON (((-13649137.130 4553355.950, -13...  \n",
       "1  POLYGON ((-13646334.440 4521323.060, -13646298...  \n",
       "2  POLYGON ((-13612245.300 4538149.390, -13612345...  \n",
       "3  POLYGON ((-13370181.620 4462431.440, -13370113...  \n",
       "4  POLYGON ((-13225170.620 4271811.660, -13225307...  "
      ]
     },
     "execution_count": 7,
     "metadata": {},
     "output_type": "execute_result"
    }
   ],
   "source": [
    "import geopandas\n",
    "census_df_geo2 = geopandas.read_file(\"census_geo.shp\")\n",
    "census_df_geo2.head()"
   ]
  },
  {
   "cell_type": "markdown",
   "id": "e5aec44e-4a19-4404-884e-a143b56d90b2",
   "metadata": {},
   "source": [
    "## Convert population data to long format and save\n",
    "Skip the totals and subtotals for simplicity since we can rederive those easily"
   ]
  },
  {
   "cell_type": "code",
   "execution_count": 8,
   "id": "1f48c42b-0ba7-4b9e-8eaf-d825f78e06c4",
   "metadata": {
    "tags": []
   },
   "outputs": [
    {
     "data": {
      "text/plain": [
       "4    70\n",
       "3    10\n",
       "2     2\n",
       "1     1\n",
       "Name: label, dtype: int64"
      ]
     },
     "execution_count": 8,
     "metadata": {},
     "output_type": "execute_result"
    }
   ],
   "source": [
    "# Now do a bunch of munging to convert the data from wide to long format with appropriate column names\n",
    "census_var_splits = census_vars['label'].str.split(':!!') # split on ':!!'\n",
    "n_splits = census_var_splits.apply(len)\n",
    "n_splits.value_counts()"
   ]
  },
  {
   "cell_type": "code",
   "execution_count": 9,
   "id": "ffea1f25-7742-4ff9-ae06-ec819f5a277e",
   "metadata": {
    "tags": []
   },
   "outputs": [
    {
     "data": {
      "text/html": [
       "<div>\n",
       "<style scoped>\n",
       "    .dataframe tbody tr th:only-of-type {\n",
       "        vertical-align: middle;\n",
       "    }\n",
       "\n",
       "    .dataframe tbody tr th {\n",
       "        vertical-align: top;\n",
       "    }\n",
       "\n",
       "    .dataframe thead th {\n",
       "        text-align: right;\n",
       "    }\n",
       "</style>\n",
       "<table border=\"1\" class=\"dataframe\">\n",
       "  <thead>\n",
       "    <tr style=\"text-align: right;\">\n",
       "      <th></th>\n",
       "      <th>sex</th>\n",
       "      <th>age</th>\n",
       "      <th>education</th>\n",
       "    </tr>\n",
       "  </thead>\n",
       "  <tbody>\n",
       "    <tr>\n",
       "      <th>B15001_004E</th>\n",
       "      <td>Male</td>\n",
       "      <td>18 to 24 years</td>\n",
       "      <td>Less than 9th grade</td>\n",
       "    </tr>\n",
       "    <tr>\n",
       "      <th>B15001_005E</th>\n",
       "      <td>Male</td>\n",
       "      <td>18 to 24 years</td>\n",
       "      <td>9th to 12th grade, no diploma</td>\n",
       "    </tr>\n",
       "    <tr>\n",
       "      <th>B15001_006E</th>\n",
       "      <td>Male</td>\n",
       "      <td>18 to 24 years</td>\n",
       "      <td>High school graduate (includes equivalency)</td>\n",
       "    </tr>\n",
       "  </tbody>\n",
       "</table>\n",
       "</div>"
      ],
      "text/plain": [
       "              sex             age                                    education\n",
       "B15001_004E  Male  18 to 24 years                          Less than 9th grade\n",
       "B15001_005E  Male  18 to 24 years                9th to 12th grade, no diploma\n",
       "B15001_006E  Male  18 to 24 years  High school graduate (includes equivalency)"
      ]
     },
     "execution_count": 9,
     "metadata": {},
     "output_type": "execute_result"
    }
   ],
   "source": [
    "full_splits_df = census_vars['label'][n_splits == max(n_splits)].str.split(':!!', expand=True)\n",
    "full_splits_df.drop([0], axis=1, inplace=True)\n",
    "full_splits_df.rename({1: 'sex', 2: 'age', 3: 'education'}, axis=1, inplace=True)\n",
    "full_splits_df.head(3)"
   ]
  },
  {
   "cell_type": "code",
   "execution_count": 10,
   "id": "0e2ea69b-02e5-4796-8069-1f76b0675e18",
   "metadata": {
    "tags": []
   },
   "outputs": [
    {
     "data": {
      "text/html": [
       "<div>\n",
       "<style scoped>\n",
       "    .dataframe tbody tr th:only-of-type {\n",
       "        vertical-align: middle;\n",
       "    }\n",
       "\n",
       "    .dataframe tbody tr th {\n",
       "        vertical-align: top;\n",
       "    }\n",
       "\n",
       "    .dataframe thead th {\n",
       "        text-align: right;\n",
       "    }\n",
       "</style>\n",
       "<table border=\"1\" class=\"dataframe\">\n",
       "  <thead>\n",
       "    <tr style=\"text-align: right;\">\n",
       "      <th></th>\n",
       "      <th>GEOID</th>\n",
       "      <th>estimate</th>\n",
       "      <th>sex</th>\n",
       "      <th>age</th>\n",
       "      <th>education</th>\n",
       "    </tr>\n",
       "  </thead>\n",
       "  <tbody>\n",
       "    <tr>\n",
       "      <th>0</th>\n",
       "      <td>06075</td>\n",
       "      <td>203</td>\n",
       "      <td>Male</td>\n",
       "      <td>18 to 24 years</td>\n",
       "      <td>Less than 9th grade</td>\n",
       "    </tr>\n",
       "    <tr>\n",
       "      <th>1</th>\n",
       "      <td>06081</td>\n",
       "      <td>766</td>\n",
       "      <td>Male</td>\n",
       "      <td>18 to 24 years</td>\n",
       "      <td>Less than 9th grade</td>\n",
       "    </tr>\n",
       "    <tr>\n",
       "      <th>2</th>\n",
       "      <td>06001</td>\n",
       "      <td>820</td>\n",
       "      <td>Male</td>\n",
       "      <td>18 to 24 years</td>\n",
       "      <td>Less than 9th grade</td>\n",
       "    </tr>\n",
       "  </tbody>\n",
       "</table>\n",
       "</div>"
      ],
      "text/plain": [
       "   GEOID  estimate   sex             age            education\n",
       "0  06075       203  Male  18 to 24 years  Less than 9th grade\n",
       "1  06081       766  Male  18 to 24 years  Less than 9th grade\n",
       "2  06001       820  Male  18 to 24 years  Less than 9th grade"
      ]
     },
     "execution_count": 10,
     "metadata": {},
     "output_type": "execute_result"
    }
   ],
   "source": [
    "census_df_long = census_df \\\n",
    "  .drop(['geometry', 'NAME'], axis=1) \\\n",
    "  .melt(id_vars = ['GEOID'], value_name = 'estimate') \\\n",
    "  .merge(full_splits_df, left_on='variable', right_index=True) \\\n",
    "  .drop('variable', axis=1) \\\n",
    "  .reset_index(drop=True)\n",
    "census_df_long['estimate'] = census_df_long['estimate'].astype('int')\n",
    "census_df_long.head(3)"
   ]
  },
  {
   "cell_type": "code",
   "execution_count": 11,
   "id": "322cb0bd-188c-4db3-9dca-94057aa62389",
   "metadata": {
    "tags": []
   },
   "outputs": [],
   "source": [
    "census_df_long.to_csv('census_long.csv', index=False)"
   ]
  },
  {
   "cell_type": "markdown",
   "id": "025a41db-f464-40e0-993f-098b1bf23a58",
   "metadata": {},
   "source": [
    "### Check reading data back in"
   ]
  },
  {
   "cell_type": "code",
   "execution_count": 12,
   "id": "4f4b7a56-f196-4007-9053-cb26e4013606",
   "metadata": {},
   "outputs": [
    {
     "data": {
      "text/html": [
       "<div>\n",
       "<style scoped>\n",
       "    .dataframe tbody tr th:only-of-type {\n",
       "        vertical-align: middle;\n",
       "    }\n",
       "\n",
       "    .dataframe tbody tr th {\n",
       "        vertical-align: top;\n",
       "    }\n",
       "\n",
       "    .dataframe thead th {\n",
       "        text-align: right;\n",
       "    }\n",
       "</style>\n",
       "<table border=\"1\" class=\"dataframe\">\n",
       "  <thead>\n",
       "    <tr style=\"text-align: right;\">\n",
       "      <th></th>\n",
       "      <th>GEOID</th>\n",
       "      <th>estimate</th>\n",
       "      <th>sex</th>\n",
       "      <th>age</th>\n",
       "      <th>education</th>\n",
       "    </tr>\n",
       "  </thead>\n",
       "  <tbody>\n",
       "    <tr>\n",
       "      <th>0</th>\n",
       "      <td>6075</td>\n",
       "      <td>203</td>\n",
       "      <td>Male</td>\n",
       "      <td>18 to 24 years</td>\n",
       "      <td>Less than 9th grade</td>\n",
       "    </tr>\n",
       "    <tr>\n",
       "      <th>1</th>\n",
       "      <td>6081</td>\n",
       "      <td>766</td>\n",
       "      <td>Male</td>\n",
       "      <td>18 to 24 years</td>\n",
       "      <td>Less than 9th grade</td>\n",
       "    </tr>\n",
       "    <tr>\n",
       "      <th>2</th>\n",
       "      <td>6001</td>\n",
       "      <td>820</td>\n",
       "      <td>Male</td>\n",
       "      <td>18 to 24 years</td>\n",
       "      <td>Less than 9th grade</td>\n",
       "    </tr>\n",
       "    <tr>\n",
       "      <th>3</th>\n",
       "      <td>6039</td>\n",
       "      <td>237</td>\n",
       "      <td>Male</td>\n",
       "      <td>18 to 24 years</td>\n",
       "      <td>Less than 9th grade</td>\n",
       "    </tr>\n",
       "    <tr>\n",
       "      <th>4</th>\n",
       "      <td>6107</td>\n",
       "      <td>491</td>\n",
       "      <td>Male</td>\n",
       "      <td>18 to 24 years</td>\n",
       "      <td>Less than 9th grade</td>\n",
       "    </tr>\n",
       "  </tbody>\n",
       "</table>\n",
       "</div>"
      ],
      "text/plain": [
       "   GEOID  estimate   sex             age            education\n",
       "0   6075       203  Male  18 to 24 years  Less than 9th grade\n",
       "1   6081       766  Male  18 to 24 years  Less than 9th grade\n",
       "2   6001       820  Male  18 to 24 years  Less than 9th grade\n",
       "3   6039       237  Male  18 to 24 years  Less than 9th grade\n",
       "4   6107       491  Male  18 to 24 years  Less than 9th grade"
      ]
     },
     "execution_count": 12,
     "metadata": {},
     "output_type": "execute_result"
    }
   ],
   "source": [
    "import pandas as pd\n",
    "census_df_long2 = pd.read_csv(\"census_long.csv\")\n",
    "census_df_long2.head()"
   ]
  },
  {
   "cell_type": "code",
   "execution_count": null,
   "id": "e7828ae3-1d76-4cf0-bceb-580efe7f38f2",
   "metadata": {},
   "outputs": [],
   "source": []
  }
 ],
 "metadata": {
  "kernelspec": {
   "display_name": "Python 3 (ipykernel)",
   "language": "python",
   "name": "python3"
  },
  "language_info": {
   "codemirror_mode": {
    "name": "ipython",
    "version": 3
   },
   "file_extension": ".py",
   "mimetype": "text/x-python",
   "name": "python",
   "nbconvert_exporter": "python",
   "pygments_lexer": "ipython3",
   "version": "3.10.10"
  }
 },
 "nbformat": 4,
 "nbformat_minor": 5
}

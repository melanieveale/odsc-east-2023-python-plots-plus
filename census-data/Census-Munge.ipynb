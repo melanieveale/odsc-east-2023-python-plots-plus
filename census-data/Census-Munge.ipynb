{
 "cells": [
  {
   "cell_type": "markdown",
   "id": "103a13ff-9abe-4ef2-9670-e9c4682ab4a0",
   "metadata": {
    "tags": []
   },
   "source": [
    "# Prep downloaded census data for plotting"
   ]
  },
  {
   "cell_type": "markdown",
   "id": "8656bb63-ffc5-41b4-83d6-bfd72da57871",
   "metadata": {},
   "source": [
    "Requires having run `Census-Download.ipynb` or otherwise acquired input files:\n",
    "* `census_geo.*` (`shp` extension is read in here; `shx`, `cpg`, `dbf`, `prj` also produced by previous notebook)\n",
    "* `census_long.csv`\n",
    "\n",
    "Outputs several cleaned CSV files for use in plotting notebooks:\n",
    "* `advanced_degree_by_age.csv`\n",
    "* `counties.csv`\n",
    "* `education_by_age_female.csv`\n",
    "* `education_by_age_male.csv`\n",
    "* `education_by_age.csv`"
   ]
  },
  {
   "cell_type": "markdown",
   "id": "ceeee044-c19d-4010-8e8d-098ff0aae31f",
   "metadata": {},
   "source": [
    "## Read in long format data"
   ]
  },
  {
   "cell_type": "code",
   "execution_count": 1,
   "id": "5cc5ea7c-ba53-4a57-b97f-3d220ec15756",
   "metadata": {
    "tags": []
   },
   "outputs": [],
   "source": [
    "import pandas as pd"
   ]
  },
  {
   "cell_type": "code",
   "execution_count": 2,
   "id": "ef12b3dd-9b0c-4ac3-a6d5-57e785a2f608",
   "metadata": {
    "tags": []
   },
   "outputs": [
    {
     "data": {
      "text/html": [
       "<div>\n",
       "<style scoped>\n",
       "    .dataframe tbody tr th:only-of-type {\n",
       "        vertical-align: middle;\n",
       "    }\n",
       "\n",
       "    .dataframe tbody tr th {\n",
       "        vertical-align: top;\n",
       "    }\n",
       "\n",
       "    .dataframe thead th {\n",
       "        text-align: right;\n",
       "    }\n",
       "</style>\n",
       "<table border=\"1\" class=\"dataframe\">\n",
       "  <thead>\n",
       "    <tr style=\"text-align: right;\">\n",
       "      <th></th>\n",
       "      <th>GEOID</th>\n",
       "      <th>estimate</th>\n",
       "      <th>sex</th>\n",
       "      <th>age</th>\n",
       "      <th>education</th>\n",
       "    </tr>\n",
       "  </thead>\n",
       "  <tbody>\n",
       "    <tr>\n",
       "      <th>0</th>\n",
       "      <td>6075</td>\n",
       "      <td>203</td>\n",
       "      <td>Male</td>\n",
       "      <td>18 to 24 years</td>\n",
       "      <td>Less than 9th grade</td>\n",
       "    </tr>\n",
       "    <tr>\n",
       "      <th>1</th>\n",
       "      <td>6081</td>\n",
       "      <td>766</td>\n",
       "      <td>Male</td>\n",
       "      <td>18 to 24 years</td>\n",
       "      <td>Less than 9th grade</td>\n",
       "    </tr>\n",
       "    <tr>\n",
       "      <th>2</th>\n",
       "      <td>6001</td>\n",
       "      <td>820</td>\n",
       "      <td>Male</td>\n",
       "      <td>18 to 24 years</td>\n",
       "      <td>Less than 9th grade</td>\n",
       "    </tr>\n",
       "    <tr>\n",
       "      <th>3</th>\n",
       "      <td>6039</td>\n",
       "      <td>237</td>\n",
       "      <td>Male</td>\n",
       "      <td>18 to 24 years</td>\n",
       "      <td>Less than 9th grade</td>\n",
       "    </tr>\n",
       "    <tr>\n",
       "      <th>4</th>\n",
       "      <td>6107</td>\n",
       "      <td>491</td>\n",
       "      <td>Male</td>\n",
       "      <td>18 to 24 years</td>\n",
       "      <td>Less than 9th grade</td>\n",
       "    </tr>\n",
       "  </tbody>\n",
       "</table>\n",
       "</div>"
      ],
      "text/plain": [
       "   GEOID  estimate   sex             age            education\n",
       "0   6075       203  Male  18 to 24 years  Less than 9th grade\n",
       "1   6081       766  Male  18 to 24 years  Less than 9th grade\n",
       "2   6001       820  Male  18 to 24 years  Less than 9th grade\n",
       "3   6039       237  Male  18 to 24 years  Less than 9th grade\n",
       "4   6107       491  Male  18 to 24 years  Less than 9th grade"
      ]
     },
     "execution_count": 2,
     "metadata": {},
     "output_type": "execute_result"
    }
   ],
   "source": [
    "census_df = pd.read_csv('census_long.csv')\n",
    "census_df.head()"
   ]
  },
  {
   "cell_type": "markdown",
   "id": "0c3527fa-0bdb-44ee-9ecc-34915f697799",
   "metadata": {},
   "source": [
    "## Education by age"
   ]
  },
  {
   "cell_type": "markdown",
   "id": "72bd4102-61b4-4de8-b7c8-ef183c57926e",
   "metadata": {},
   "source": [
    "I want to reduce the number of categories in education to provide a reasonable number for various plotting scenarios.\n",
    "Also save data split by sex, and a separate simple CSV with only data for advanced degrees"
   ]
  },
  {
   "cell_type": "markdown",
   "id": "25256258-db0a-4c7b-928d-e42f7134f3e9",
   "metadata": {},
   "source": [
    "### Combine education categories"
   ]
  },
  {
   "cell_type": "code",
   "execution_count": 3,
   "id": "aeeb42ee-0981-4f3e-b63d-ed8bb20e8e0a",
   "metadata": {
    "tags": []
   },
   "outputs": [
    {
     "data": {
      "text/plain": [
       "array(['Less than 9th grade', '9th to 12th grade, no diploma',\n",
       "       'High school graduate (includes equivalency)',\n",
       "       'Some college, no degree', \"Associate's degree\",\n",
       "       \"Bachelor's degree\", 'Graduate or professional degree'],\n",
       "      dtype=object)"
      ]
     },
     "execution_count": 3,
     "metadata": {},
     "output_type": "execute_result"
    }
   ],
   "source": [
    "census_df['education'].unique()"
   ]
  },
  {
   "cell_type": "code",
   "execution_count": 4,
   "id": "6f52c194-1e88-49af-b612-a207c048b02d",
   "metadata": {
    "tags": []
   },
   "outputs": [],
   "source": [
    "education_map = {\n",
    "    'Less than 9th grade': 'No diploma',\n",
    "    '9th to 12th grade, no diploma': 'No diploma',\n",
    "    'High school graduate (includes equivalency)': 'High School diploma',\n",
    "    'Some college, no degree': 'Some college',\n",
    "    \"Associate's degree\": 'Some college',\n",
    "    \"Bachelor's degree\": \"Bachelor's degree\",\n",
    "    'Graduate or professional degree': \"Advanced degree\"\n",
    "}"
   ]
  },
  {
   "cell_type": "code",
   "execution_count": 5,
   "id": "0523e417-1c39-4e1b-9fe0-115348423016",
   "metadata": {
    "tags": []
   },
   "outputs": [],
   "source": [
    "ed5_df = pd.DataFrame(census_df, copy=True)\n",
    "ed5_df['education'] = ed5_df['education'].replace(education_map)"
   ]
  },
  {
   "cell_type": "markdown",
   "id": "56c85f87-9528-417f-b60d-1e886b67c5e7",
   "metadata": {},
   "source": [
    "### Group by education level and age"
   ]
  },
  {
   "cell_type": "code",
   "execution_count": 6,
   "id": "2eda60d1-01f3-4bc3-b43b-3bef59cad4cb",
   "metadata": {
    "tags": []
   },
   "outputs": [
    {
     "data": {
      "text/html": [
       "<div>\n",
       "<style scoped>\n",
       "    .dataframe tbody tr th:only-of-type {\n",
       "        vertical-align: middle;\n",
       "    }\n",
       "\n",
       "    .dataframe tbody tr th {\n",
       "        vertical-align: top;\n",
       "    }\n",
       "\n",
       "    .dataframe thead th {\n",
       "        text-align: right;\n",
       "    }\n",
       "</style>\n",
       "<table border=\"1\" class=\"dataframe\">\n",
       "  <thead>\n",
       "    <tr style=\"text-align: right;\">\n",
       "      <th>education</th>\n",
       "      <th>Advanced degree</th>\n",
       "      <th>Bachelor's degree</th>\n",
       "      <th>High School diploma</th>\n",
       "      <th>No diploma</th>\n",
       "      <th>Some college</th>\n",
       "    </tr>\n",
       "    <tr>\n",
       "      <th>age</th>\n",
       "      <th></th>\n",
       "      <th></th>\n",
       "      <th></th>\n",
       "      <th></th>\n",
       "      <th></th>\n",
       "    </tr>\n",
       "  </thead>\n",
       "  <tbody>\n",
       "    <tr>\n",
       "      <th>18 to 24 years</th>\n",
       "      <td>0.738296</td>\n",
       "      <td>9.987076</td>\n",
       "      <td>30.384257</td>\n",
       "      <td>11.036496</td>\n",
       "      <td>47.853875</td>\n",
       "    </tr>\n",
       "    <tr>\n",
       "      <th>25 to 34 years</th>\n",
       "      <td>10.713565</td>\n",
       "      <td>25.769991</td>\n",
       "      <td>21.471418</td>\n",
       "      <td>10.963738</td>\n",
       "      <td>31.081288</td>\n",
       "    </tr>\n",
       "    <tr>\n",
       "      <th>35 to 44 years</th>\n",
       "      <td>14.623810</td>\n",
       "      <td>22.270633</td>\n",
       "      <td>19.605535</td>\n",
       "      <td>16.824875</td>\n",
       "      <td>26.675147</td>\n",
       "    </tr>\n",
       "    <tr>\n",
       "      <th>45 to 64 years</th>\n",
       "      <td>12.504740</td>\n",
       "      <td>19.669680</td>\n",
       "      <td>20.241137</td>\n",
       "      <td>18.421095</td>\n",
       "      <td>29.163347</td>\n",
       "    </tr>\n",
       "    <tr>\n",
       "      <th>65 years and over</th>\n",
       "      <td>13.672428</td>\n",
       "      <td>17.787053</td>\n",
       "      <td>20.696619</td>\n",
       "      <td>19.705613</td>\n",
       "      <td>28.138288</td>\n",
       "    </tr>\n",
       "  </tbody>\n",
       "</table>\n",
       "</div>"
      ],
      "text/plain": [
       "education          Advanced degree  Bachelor's degree  High School diploma  \\\n",
       "age                                                                          \n",
       "18 to 24 years            0.738296           9.987076            30.384257   \n",
       "25 to 34 years           10.713565          25.769991            21.471418   \n",
       "35 to 44 years           14.623810          22.270633            19.605535   \n",
       "45 to 64 years           12.504740          19.669680            20.241137   \n",
       "65 years and over        13.672428          17.787053            20.696619   \n",
       "\n",
       "education          No diploma  Some college  \n",
       "age                                          \n",
       "18 to 24 years      11.036496     47.853875  \n",
       "25 to 34 years      10.963738     31.081288  \n",
       "35 to 44 years      16.824875     26.675147  \n",
       "45 to 64 years      18.421095     29.163347  \n",
       "65 years and over   19.705613     28.138288  "
      ]
     },
     "execution_count": 6,
     "metadata": {},
     "output_type": "execute_result"
    }
   ],
   "source": [
    "ed_by_age = ed5_df \\\n",
    "  .groupby(['age', 'education']) \\\n",
    "  .agg({'estimate': sum}) \\\n",
    "  .reset_index()\n",
    "age_totals = ed_by_age.groupby(['age'])['estimate'].transform('sum')\n",
    "ed_by_age['pct'] = 100 * ed_by_age['estimate'] / age_totals\n",
    "ed_by_age_wide = ed_by_age.pivot(index='age', columns='education', values='pct')\n",
    "ed_by_age_wide.head()"
   ]
  },
  {
   "cell_type": "code",
   "execution_count": 7,
   "id": "024fc055-1dea-4f29-9f07-8e386ddf3165",
   "metadata": {
    "tags": []
   },
   "outputs": [],
   "source": [
    "ed_by_age_wide.to_csv('education_by_age.csv')"
   ]
  },
  {
   "cell_type": "markdown",
   "id": "412c134f-79b6-4c46-8483-6c49bf261edf",
   "metadata": {},
   "source": [
    "### Save out data for advanced degrees only"
   ]
  },
  {
   "cell_type": "code",
   "execution_count": 8,
   "id": "e9cf549e-87c3-4f46-8e5b-2f5d61d4b0f4",
   "metadata": {
    "tags": []
   },
   "outputs": [],
   "source": [
    "adv_by_age = ed_by_age_wide.rename({'Advanced degree': 'percent'}, axis=1)[['percent']]\n",
    "adv_by_age.to_csv('advanced_degree_by_age.csv')"
   ]
  },
  {
   "cell_type": "markdown",
   "id": "5225f275-6a09-4728-8581-91410759e176",
   "metadata": {},
   "source": [
    "### Save out data split by sex"
   ]
  },
  {
   "cell_type": "code",
   "execution_count": 9,
   "id": "8c23e893-5868-4c9b-9b64-37b5da24ed56",
   "metadata": {
    "tags": []
   },
   "outputs": [],
   "source": [
    "for sex in ed5_df['sex'].unique():\n",
    "    ed_by_age_by_sex = ed5_df[ed5_df['sex'] == sex] \\\n",
    "        .groupby(['age', 'education']) \\\n",
    "        .agg({'estimate': sum}) \\\n",
    "        .reset_index()\n",
    "    age_sex_totals = ed_by_age_by_sex.groupby(['age'])['estimate'].transform('sum')\n",
    "    ed_by_age_by_sex['pct'] = 100 * ed_by_age_by_sex['estimate'] / age_sex_totals\n",
    "    ed_by_age_by_sex_wide = ed_by_age_by_sex.pivot(index='age', columns='education', values='pct')\n",
    "    ed_by_age_by_sex_wide.to_csv(f'education_by_age_{sex.lower()}.csv')"
   ]
  },
  {
   "cell_type": "markdown",
   "id": "843a2fdc-ee32-41b3-9487-0c92a2ea0d72",
   "metadata": {},
   "source": [
    "## Per-county data"
   ]
  },
  {
   "cell_type": "markdown",
   "id": "f879b5a9-7620-4695-bdc5-5622ed799835",
   "metadata": {},
   "source": [
    "Derive the county area from the geodata.\n",
    "Derive the the total population and Male to Female ratio from the long format data.\n",
    "Save out to plain csv file."
   ]
  },
  {
   "cell_type": "markdown",
   "id": "278f8318-6260-49a8-b3ac-bd1c749fcd8f",
   "metadata": {},
   "source": [
    "### Read in geodata"
   ]
  },
  {
   "cell_type": "code",
   "execution_count": 10,
   "id": "198bb42c-1c97-451a-8954-6028fd0adb36",
   "metadata": {
    "tags": []
   },
   "outputs": [],
   "source": [
    "import geopandas"
   ]
  },
  {
   "cell_type": "code",
   "execution_count": 11,
   "id": "cb56dc9b-cd37-43d0-8be8-ece63252e6cf",
   "metadata": {
    "tags": []
   },
   "outputs": [],
   "source": [
    "census_df_geo = geopandas.read_file(\"census_geo.shp\")"
   ]
  },
  {
   "cell_type": "markdown",
   "id": "a4e6eb12-1aad-4e2b-a6ef-b3f9c3f9951d",
   "metadata": {},
   "source": [
    "### Calculate area"
   ]
  },
  {
   "cell_type": "code",
   "execution_count": 12,
   "id": "eff16e52-4a65-454d-985e-f136ba2ec7a2",
   "metadata": {
    "tags": []
   },
   "outputs": [],
   "source": [
    "# See https://geopandas.org/en/stable/docs/user_guide/projections.html\n",
    "# and https://gis.stackexchange.com/questions/329349/calculating-the-area-by-square-feet-with-geopandas\n",
    "# Seems this data is already in epsg 3857\n",
    "# https://spatialreference.org/ref/epsg/2225/\n",
    "# Convert to square miles\n",
    "census_df_geo['area'] = census_df_geo['geometry'].to_crs(epsg=2225).area * 3.58701 * 10**-8"
   ]
  },
  {
   "cell_type": "code",
   "execution_count": 13,
   "id": "280151c7-3811-449a-9ae2-f3e1f68d26f1",
   "metadata": {
    "tags": []
   },
   "outputs": [
    {
     "data": {
      "text/html": [
       "<div>\n",
       "<style scoped>\n",
       "    .dataframe tbody tr th:only-of-type {\n",
       "        vertical-align: middle;\n",
       "    }\n",
       "\n",
       "    .dataframe tbody tr th {\n",
       "        vertical-align: top;\n",
       "    }\n",
       "\n",
       "    .dataframe thead th {\n",
       "        text-align: right;\n",
       "    }\n",
       "</style>\n",
       "<table border=\"1\" class=\"dataframe\">\n",
       "  <thead>\n",
       "    <tr style=\"text-align: right;\">\n",
       "      <th></th>\n",
       "      <th>GEOID</th>\n",
       "      <th>NAME</th>\n",
       "      <th>geometry</th>\n",
       "      <th>area</th>\n",
       "    </tr>\n",
       "  </thead>\n",
       "  <tbody>\n",
       "    <tr>\n",
       "      <th>0</th>\n",
       "      <td>6075</td>\n",
       "      <td>San Francisco County, California</td>\n",
       "      <td>MULTIPOLYGON (((-13649137.130 4553355.950, -13...</td>\n",
       "      <td>232.497093</td>\n",
       "    </tr>\n",
       "    <tr>\n",
       "      <th>1</th>\n",
       "      <td>6081</td>\n",
       "      <td>San Mateo County, California</td>\n",
       "      <td>POLYGON ((-13646334.440 4521323.060, -13646298...</td>\n",
       "      <td>743.365017</td>\n",
       "    </tr>\n",
       "    <tr>\n",
       "      <th>2</th>\n",
       "      <td>6001</td>\n",
       "      <td>Alameda County, California</td>\n",
       "      <td>POLYGON ((-13612245.300 4538149.390, -13612345...</td>\n",
       "      <td>823.373527</td>\n",
       "    </tr>\n",
       "    <tr>\n",
       "      <th>3</th>\n",
       "      <td>6039</td>\n",
       "      <td>Madera County, California</td>\n",
       "      <td>POLYGON ((-13370181.620 4462431.440, -13370113...</td>\n",
       "      <td>2161.238868</td>\n",
       "    </tr>\n",
       "    <tr>\n",
       "      <th>4</th>\n",
       "      <td>6107</td>\n",
       "      <td>Tulare County, California</td>\n",
       "      <td>POLYGON ((-13225170.620 4271811.660, -13225307...</td>\n",
       "      <td>4868.434787</td>\n",
       "    </tr>\n",
       "  </tbody>\n",
       "</table>\n",
       "</div>"
      ],
      "text/plain": [
       "   GEOID                              NAME  \\\n",
       "0   6075  San Francisco County, California   \n",
       "1   6081      San Mateo County, California   \n",
       "2   6001        Alameda County, California   \n",
       "3   6039         Madera County, California   \n",
       "4   6107         Tulare County, California   \n",
       "\n",
       "                                            geometry         area  \n",
       "0  MULTIPOLYGON (((-13649137.130 4553355.950, -13...   232.497093  \n",
       "1  POLYGON ((-13646334.440 4521323.060, -13646298...   743.365017  \n",
       "2  POLYGON ((-13612245.300 4538149.390, -13612345...   823.373527  \n",
       "3  POLYGON ((-13370181.620 4462431.440, -13370113...  2161.238868  \n",
       "4  POLYGON ((-13225170.620 4271811.660, -13225307...  4868.434787  "
      ]
     },
     "execution_count": 13,
     "metadata": {},
     "output_type": "execute_result"
    }
   ],
   "source": [
    "census_df_geo.head()"
   ]
  },
  {
   "cell_type": "markdown",
   "id": "bd1c3c2e-98e6-4a1b-9672-412b5bc7a748",
   "metadata": {},
   "source": [
    "### Get total population per county"
   ]
  },
  {
   "cell_type": "code",
   "execution_count": 14,
   "id": "c16db192-bd23-4d37-be61-e8a26cb76789",
   "metadata": {
    "tags": []
   },
   "outputs": [
    {
     "data": {
      "text/html": [
       "<div>\n",
       "<style scoped>\n",
       "    .dataframe tbody tr th:only-of-type {\n",
       "        vertical-align: middle;\n",
       "    }\n",
       "\n",
       "    .dataframe tbody tr th {\n",
       "        vertical-align: top;\n",
       "    }\n",
       "\n",
       "    .dataframe thead th {\n",
       "        text-align: right;\n",
       "    }\n",
       "</style>\n",
       "<table border=\"1\" class=\"dataframe\">\n",
       "  <thead>\n",
       "    <tr style=\"text-align: right;\">\n",
       "      <th></th>\n",
       "      <th>estimate</th>\n",
       "    </tr>\n",
       "    <tr>\n",
       "      <th>GEOID</th>\n",
       "      <th></th>\n",
       "    </tr>\n",
       "  </thead>\n",
       "  <tbody>\n",
       "    <tr>\n",
       "      <th>6001</th>\n",
       "      <td>1312727</td>\n",
       "    </tr>\n",
       "    <tr>\n",
       "      <th>6003</th>\n",
       "      <td>838</td>\n",
       "    </tr>\n",
       "    <tr>\n",
       "      <th>6005</th>\n",
       "      <td>32582</td>\n",
       "    </tr>\n",
       "    <tr>\n",
       "      <th>6007</th>\n",
       "      <td>180378</td>\n",
       "    </tr>\n",
       "    <tr>\n",
       "      <th>6009</th>\n",
       "      <td>37703</td>\n",
       "    </tr>\n",
       "  </tbody>\n",
       "</table>\n",
       "</div>"
      ],
      "text/plain": [
       "       estimate\n",
       "GEOID          \n",
       "6001    1312727\n",
       "6003        838\n",
       "6005      32582\n",
       "6007     180378\n",
       "6009      37703"
      ]
     },
     "execution_count": 14,
     "metadata": {},
     "output_type": "execute_result"
    }
   ],
   "source": [
    "county_pop = census_df.groupby('GEOID').sum('estimate')\n",
    "county_pop.head()"
   ]
  },
  {
   "cell_type": "markdown",
   "id": "c69d6470-5087-40a6-9eb1-aabdd3fce84f",
   "metadata": {},
   "source": [
    "### Get Male to Female ratio per county"
   ]
  },
  {
   "cell_type": "code",
   "execution_count": 15,
   "id": "31c25403-a87e-4a44-ae5b-8cd15438b97e",
   "metadata": {
    "tags": []
   },
   "outputs": [
    {
     "data": {
      "text/plain": [
       "GEOID\n",
       "6001    0.947308\n",
       "6003    1.154242\n",
       "6005    1.188621\n",
       "6007    0.959693\n",
       "6009    0.982803\n",
       "Name: ratio, dtype: float64"
      ]
     },
     "execution_count": 15,
     "metadata": {},
     "output_type": "execute_result"
    }
   ],
   "source": [
    "pop_ratio = census_df \\\n",
    "    .groupby(['GEOID', 'sex']) \\\n",
    "    .sum('estimate') \\\n",
    "    .unstack() \\\n",
    "    .droplevel(0, axis=1) \\\n",
    "    .apply(lambda x: x['Male']/x['Female'], axis=1) \\\n",
    "    .rename('ratio')\n",
    "pop_ratio.head()"
   ]
  },
  {
   "cell_type": "markdown",
   "id": "042e0f3e-3285-4cc5-a854-d266912f2f0a",
   "metadata": {},
   "source": [
    "### Join county data, drop geometry, and save as plain csv"
   ]
  },
  {
   "cell_type": "code",
   "execution_count": 16,
   "id": "a134a210-b09f-4427-aca2-4df657c5562b",
   "metadata": {
    "tags": []
   },
   "outputs": [
    {
     "data": {
      "text/html": [
       "<div>\n",
       "<style scoped>\n",
       "    .dataframe tbody tr th:only-of-type {\n",
       "        vertical-align: middle;\n",
       "    }\n",
       "\n",
       "    .dataframe tbody tr th {\n",
       "        vertical-align: top;\n",
       "    }\n",
       "\n",
       "    .dataframe thead th {\n",
       "        text-align: right;\n",
       "    }\n",
       "</style>\n",
       "<table border=\"1\" class=\"dataframe\">\n",
       "  <thead>\n",
       "    <tr style=\"text-align: right;\">\n",
       "      <th></th>\n",
       "      <th>GEOID</th>\n",
       "      <th>NAME</th>\n",
       "      <th>geometry</th>\n",
       "      <th>area</th>\n",
       "      <th>estimate</th>\n",
       "      <th>ratio</th>\n",
       "      <th>density</th>\n",
       "    </tr>\n",
       "  </thead>\n",
       "  <tbody>\n",
       "    <tr>\n",
       "      <th>0</th>\n",
       "      <td>6075</td>\n",
       "      <td>San Francisco County, California</td>\n",
       "      <td>MULTIPOLYGON (((-13649137.130 4553355.950, -13...</td>\n",
       "      <td>232.497093</td>\n",
       "      <td>757415</td>\n",
       "      <td>1.040857</td>\n",
       "      <td>3257.739650</td>\n",
       "    </tr>\n",
       "    <tr>\n",
       "      <th>1</th>\n",
       "      <td>6081</td>\n",
       "      <td>San Mateo County, California</td>\n",
       "      <td>POLYGON ((-13646334.440 4521323.060, -13646298...</td>\n",
       "      <td>743.365017</td>\n",
       "      <td>607919</td>\n",
       "      <td>0.958609</td>\n",
       "      <td>817.793393</td>\n",
       "    </tr>\n",
       "    <tr>\n",
       "      <th>2</th>\n",
       "      <td>6001</td>\n",
       "      <td>Alameda County, California</td>\n",
       "      <td>POLYGON ((-13612245.300 4538149.390, -13612345...</td>\n",
       "      <td>823.373527</td>\n",
       "      <td>1312727</td>\n",
       "      <td>0.947308</td>\n",
       "      <td>1594.327432</td>\n",
       "    </tr>\n",
       "    <tr>\n",
       "      <th>3</th>\n",
       "      <td>6039</td>\n",
       "      <td>Madera County, California</td>\n",
       "      <td>POLYGON ((-13370181.620 4462431.440, -13370113...</td>\n",
       "      <td>2161.238868</td>\n",
       "      <td>112580</td>\n",
       "      <td>0.897362</td>\n",
       "      <td>52.090494</td>\n",
       "    </tr>\n",
       "    <tr>\n",
       "      <th>4</th>\n",
       "      <td>6107</td>\n",
       "      <td>Tulare County, California</td>\n",
       "      <td>POLYGON ((-13225170.620 4271811.660, -13225307...</td>\n",
       "      <td>4868.434787</td>\n",
       "      <td>318740</td>\n",
       "      <td>0.979924</td>\n",
       "      <td>65.470734</td>\n",
       "    </tr>\n",
       "  </tbody>\n",
       "</table>\n",
       "</div>"
      ],
      "text/plain": [
       "   GEOID                              NAME  \\\n",
       "0   6075  San Francisco County, California   \n",
       "1   6081      San Mateo County, California   \n",
       "2   6001        Alameda County, California   \n",
       "3   6039         Madera County, California   \n",
       "4   6107         Tulare County, California   \n",
       "\n",
       "                                            geometry         area  estimate  \\\n",
       "0  MULTIPOLYGON (((-13649137.130 4553355.950, -13...   232.497093    757415   \n",
       "1  POLYGON ((-13646334.440 4521323.060, -13646298...   743.365017    607919   \n",
       "2  POLYGON ((-13612245.300 4538149.390, -13612345...   823.373527   1312727   \n",
       "3  POLYGON ((-13370181.620 4462431.440, -13370113...  2161.238868    112580   \n",
       "4  POLYGON ((-13225170.620 4271811.660, -13225307...  4868.434787    318740   \n",
       "\n",
       "      ratio      density  \n",
       "0  1.040857  3257.739650  \n",
       "1  0.958609   817.793393  \n",
       "2  0.947308  1594.327432  \n",
       "3  0.897362    52.090494  \n",
       "4  0.979924    65.470734  "
      ]
     },
     "execution_count": 16,
     "metadata": {},
     "output_type": "execute_result"
    }
   ],
   "source": [
    "census_df_geo = census_df_geo.merge(county_pop, left_on='GEOID', right_index=True)\n",
    "census_df_geo = census_df_geo.merge(pop_ratio, left_on='GEOID', right_index=True)\n",
    "census_df_geo['density'] = census_df_geo['estimate'] / census_df_geo['area']\n",
    "census_df_geo.head()"
   ]
  },
  {
   "cell_type": "code",
   "execution_count": 17,
   "id": "0bfb5ceb-465d-4530-ae35-44a5a9532220",
   "metadata": {
    "tags": []
   },
   "outputs": [],
   "source": [
    "census_df_geo.drop(['geometry'], axis=1).to_csv('counties.csv', index=False)"
   ]
  },
  {
   "cell_type": "code",
   "execution_count": null,
   "id": "5f21491b-1b95-4eb7-aed5-ac9185f5076e",
   "metadata": {},
   "outputs": [],
   "source": []
  }
 ],
 "metadata": {
  "kernelspec": {
   "display_name": "Python 3 (ipykernel)",
   "language": "python",
   "name": "python3"
  },
  "language_info": {
   "codemirror_mode": {
    "name": "ipython",
    "version": 3
   },
   "file_extension": ".py",
   "mimetype": "text/x-python",
   "name": "python",
   "nbconvert_exporter": "python",
   "pygments_lexer": "ipython3",
   "version": "3.10.10"
  }
 },
 "nbformat": 4,
 "nbformat_minor": 5
}
